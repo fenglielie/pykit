{
 "cells": [
  {
   "cell_type": "code",
   "execution_count": null,
   "metadata": {},
   "outputs": [],
   "source": [
    "import numpy as np\n",
    "from burgers_sin_exact import burgers_sin_show\n",
    "from burgers_sin_exact import burgers_show_line\n",
    "from burgers_sin_exact import burgers_show_animate"
   ]
  },
  {
   "cell_type": "code",
   "execution_count": null,
   "metadata": {},
   "outputs": [],
   "source": [
    "burgers_sin_show(\n",
    "    xleft=0,\n",
    "    xright=2 * np.pi,\n",
    "    xnum=400,\n",
    "    t=0.5,\n",
    "    a=0,\n",
    "    b=1,\n",
    "    w=1,\n",
    "    phi=0,\n",
    "    ep=1e-6,\n",
    ")"
   ]
  },
  {
   "cell_type": "code",
   "execution_count": null,
   "metadata": {},
   "outputs": [],
   "source": [
    "burgers_sin_show(\n",
    "    xleft=0,\n",
    "    xright=2 * np.pi,\n",
    "    xnum=400,\n",
    "    t=1.3,\n",
    "    a=0,\n",
    "    b=1,\n",
    "    w=1,\n",
    "    phi=0,\n",
    "    ep=1e-6,\n",
    ")"
   ]
  },
  {
   "cell_type": "code",
   "execution_count": null,
   "metadata": {},
   "outputs": [],
   "source": [
    "burgers_sin_show(\n",
    "    xleft=-np.pi,\n",
    "    xright= np.pi,\n",
    "    xnum=400,\n",
    "    t=0.4,\n",
    "    a=1,\n",
    "    b=2,\n",
    "    w=1,\n",
    "    phi=0,\n",
    "    ep=1e-6,\n",
    ")\n"
   ]
  },
  {
   "cell_type": "code",
   "execution_count": null,
   "metadata": {},
   "outputs": [],
   "source": [
    "burgers_sin_show(\n",
    "    xleft=-np.pi,\n",
    "    xright=np.pi,\n",
    "    xnum=400,\n",
    "    t=1.0,\n",
    "    a=1,\n",
    "    b=2,\n",
    "    w=1,\n",
    "    phi=0,\n",
    "    ep=1e-6,\n",
    ")"
   ]
  },
  {
   "cell_type": "code",
   "execution_count": null,
   "metadata": {},
   "outputs": [],
   "source": [
    "burgers_sin_show(\n",
    "    xleft=-2*np.pi,\n",
    "    xright= 2*np.pi,\n",
    "    xnum=400,\n",
    "    t=5.0,\n",
    "    a=1,\n",
    "    b=2,\n",
    "    w=1,\n",
    "    phi=0,\n",
    "    ep=1e-6,\n",
    ")\n"
   ]
  },
  {
   "cell_type": "code",
   "execution_count": null,
   "metadata": {},
   "outputs": [],
   "source": [
    "burgers_sin_show(\n",
    "    xleft=-1,\n",
    "    xright=1,\n",
    "    xnum=400,\n",
    "    t=0.7,\n",
    "    a=0.25,\n",
    "    b=0.5,\n",
    "    w=np.pi,\n",
    "    phi=0,\n",
    "    ep=1e-6,\n",
    ")\n"
   ]
  },
  {
   "cell_type": "code",
   "execution_count": null,
   "metadata": {},
   "outputs": [],
   "source": [
    "burgers_show_line(\n",
    "    u0=lambda s: np.sin(s), xleft=0, xright=2*np.pi, num=100, tend=1.2\n",
    ")\n"
   ]
  },
  {
   "cell_type": "code",
   "execution_count": null,
   "metadata": {},
   "outputs": [],
   "source": [
    "burgers_show_line(\n",
    "    u0=lambda s: 1+2*np.sin(s), xleft=-2*np.pi, xright=2*np.pi, num=200, tend=1.0\n",
    ")\n"
   ]
  },
  {
   "cell_type": "code",
   "execution_count": null,
   "metadata": {},
   "outputs": [],
   "source": [
    "def gaussian_distribution(x):\n",
    "    mu = 0\n",
    "    sigma = 0.6\n",
    "    return 1 / (sigma * np.sqrt(2 * np.pi)) * np.exp(-0.5 * ((x - mu) / sigma) ** 2)\n",
    "\n",
    "\n",
    "burgers_show_line(\n",
    "    u0=gaussian_distribution, xleft=-np.pi, xright=np.pi, num=100, tend=2.0\n",
    ")"
   ]
  },
  {
   "cell_type": "code",
   "execution_count": null,
   "metadata": {},
   "outputs": [],
   "source": [
    "def jump(x):\n",
    "    result = np.ones_like(x)\n",
    "    result[x < 0] = 1\n",
    "    result[x > 1] = 0\n",
    "    result[(x >= 0) & (x <= 1)] = 1 - x[(x >= 0) & (x <= 1)]\n",
    "\n",
    "    return result\n",
    "\n",
    "\n",
    "burgers_show_line(u0=jump, xleft=-2, xright=2, num=100, tend=1.0)"
   ]
  },
  {
   "cell_type": "code",
   "execution_count": null,
   "metadata": {},
   "outputs": [],
   "source": [
    "tmp = burgers_show_animate(\n",
    "    u0=lambda s: np.sin(s), xleft=0, xright=2 * np.pi, num=100, tend=1.2\n",
    ")\n",
    "# tmp.save(\"demo1.gif\")"
   ]
  },
  {
   "cell_type": "code",
   "execution_count": null,
   "metadata": {},
   "outputs": [],
   "source": [
    "def gaussian_distribution(x):\n",
    "    mu = 0\n",
    "    sigma = 0.6\n",
    "    return 1 / (sigma * np.sqrt(2 * np.pi)) * np.exp(-0.5 * ((x - mu) / sigma) ** 2)\n",
    "\n",
    "\n",
    "tmp = burgers_show_animate(\n",
    "    u0=gaussian_distribution, xleft=-np.pi, xright=np.pi, num=200, tend=2.0\n",
    ")\n",
    "# tmp.save(\"demo2.gif\")"
   ]
  },
  {
   "cell_type": "code",
   "execution_count": null,
   "metadata": {},
   "outputs": [],
   "source": [
    "def jump(x):\n",
    "    result = np.ones_like(x)\n",
    "    result[x < 0] = 1\n",
    "    result[x > 1] = 0\n",
    "    result[(x >= 0) & (x <= 1)] = 1 - x[(x >= 0) & (x <= 1)]\n",
    "\n",
    "    return result\n",
    "\n",
    "tmp = burgers_show_animate(\n",
    "    u0=jump, xleft=-2, xright=2, num=100, tend=1.0\n",
    ")\n",
    "# tmp.save(\"demo3.gif\")\n"
   ]
  },
  {
   "cell_type": "code",
   "execution_count": null,
   "metadata": {},
   "outputs": [],
   "source": []
  }
 ],
 "metadata": {
  "kernelspec": {
   "display_name": "base",
   "language": "python",
   "name": "python3"
  },
  "language_info": {
   "codemirror_mode": {
    "name": "ipython",
    "version": 3
   },
   "file_extension": ".py",
   "mimetype": "text/x-python",
   "name": "python",
   "nbconvert_exporter": "python",
   "pygments_lexer": "ipython3",
   "version": "3.12.1"
  }
 },
 "nbformat": 4,
 "nbformat_minor": 2
}
